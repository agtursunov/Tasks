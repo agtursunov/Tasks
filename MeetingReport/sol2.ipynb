{
 "cells": [
  {
   "cell_type": "code",
   "execution_count": 157,
   "id": "93e5f4af",
   "metadata": {},
   "outputs": [],
   "source": [
    "import pandas as pd\n",
    "import json"
   ]
  },
  {
   "cell_type": "code",
   "execution_count": 158,
   "id": "23a9857b",
   "metadata": {},
   "outputs": [],
   "source": [
    "raw_data = pd.read_excel('raw_data.xlsx', sheet_name='Sheet1', header=0)"
   ]
  },
  {
   "cell_type": "code",
   "execution_count": 159,
   "id": "c0f08bed",
   "metadata": {},
   "outputs": [],
   "source": [
    "raw_data.iloc[2, 2] = raw_data.iloc[2, 2][:-2]"
   ]
  },
  {
   "cell_type": "code",
   "execution_count": 160,
   "id": "71976760",
   "metadata": {},
   "outputs": [],
   "source": [
    "raw_data['raw_content_dict'] = raw_data['raw_content'].apply(json.loads)"
   ]
  },
  {
   "cell_type": "code",
   "execution_count": null,
   "id": "882ad878",
   "metadata": {},
   "outputs": [],
   "source": [
    "comm_types = raw_data['comm_type'].unique()\n",
    "dim_comm_type = pd.DataFrame({'comm_type': comm_types, 'comm_type_id': range(1, len(comm_types) + 1)})"
   ]
  },
  {
   "cell_type": "code",
   "execution_count": 162,
   "id": "e4e50f41",
   "metadata": {},
   "outputs": [],
   "source": [
    "subjects = raw_data['subject']\n",
    "dim_subject = pd.DataFrame({'subject': subjects, 'subject_id': range(101, len(subjects) + 101)})"
   ]
  },
  {
   "cell_type": "code",
   "execution_count": 163,
   "id": "c6321c20",
   "metadata": {},
   "outputs": [],
   "source": [
    "calendar_ids = []\n",
    "for raw_data_dic in raw_data['raw_content_dict']:\n",
    "    calendar_ids.append(raw_data_dic[\"calendar_id\"])\n",
    "calendar_ids = pd.Series(calendar_ids)\n",
    "dim_calendar = pd.DataFrame({'raw_calendar_id': calendar_ids, 'calendar_id': range(301, len(calendar_ids) + 301)})"
   ]
  },
  {
   "cell_type": "code",
   "execution_count": 164,
   "id": "550a8bda",
   "metadata": {},
   "outputs": [],
   "source": [
    "audio_urls = []\n",
    "for raw_data_dic in raw_data['raw_content_dict']:\n",
    "    audio_urls.append(raw_data_dic[\"audio_url\"])\n",
    "audio_urls = pd.Series(audio_urls)\n",
    "dim_audio = pd.DataFrame({'raw_audio_url': audio_urls, 'audio_id': range(1001, len(audio_urls) + 1001)})"
   ]
  },
  {
   "cell_type": "code",
   "execution_count": 165,
   "id": "d831a3aa",
   "metadata": {},
   "outputs": [],
   "source": [
    "video_urls = []\n",
    "for raw_data_dic in raw_data['raw_content_dict']:\n",
    "    video_urls.append(raw_data_dic[\"video_url\"])\n",
    "video_urls = pd.Series(video_urls)\n",
    "dim_video = pd.DataFrame({'raw_video_url': video_urls, 'video_id': range(1, len(video_urls) + 1)})"
   ]
  },
  {
   "cell_type": "code",
   "execution_count": 166,
   "id": "bacc9b90",
   "metadata": {},
   "outputs": [],
   "source": [
    "transcript_urls = []\n",
    "for raw_data_dic in raw_data['raw_content_dict']:\n",
    "    transcript_urls.append(raw_data_dic[\"transcript_url\"])\n",
    "transcript_urls = pd.Series(transcript_urls)\n",
    "dim_transcript = pd.DataFrame({'raw_transcript_url': transcript_urls, 'transcript_id': range(801, len(transcript_urls) + 801)})"
   ]
  },
  {
   "cell_type": "code",
   "execution_count": 167,
   "id": "73889e7f",
   "metadata": {},
   "outputs": [],
   "source": [
    "dateStrings = []\n",
    "for raw_data_dic in raw_data['raw_content_dict']:\n",
    "    dateStrings.append(raw_data_dic[\"dateString\"])\n",
    "dateStrings = pd.Series(dateStrings)\n",
    "dim_dateString= pd.DataFrame({'DateTime': dateStrings, 'datetime_id': range(91, len(dateStrings) + 91)})"
   ]
  },
  {
   "cell_type": "code",
   "execution_count": 168,
   "id": "0f9304af",
   "metadata": {},
   "outputs": [],
   "source": [
    "meeting_attendees_df = pd.DataFrame()\n",
    "speakers_df = pd.DataFrame()\n",
    "participants_df = pd.DataFrame()\n",
    "organizer_emails_df = pd.DataFrame()\n",
    "host_emails_df = pd.DataFrame()\n",
    "raw_content_param_df = pd.DataFrame()\n",
    "for raw_data_dic in raw_data['raw_content_dict']:\n",
    "    raw_content_param = pd.DataFrame({'email': [raw_data_dic[\"host_email\"]]})\n",
    "    raw_content_param['id'] = raw_data_dic[\"id\"]\n",
    "    raw_content_param['raw_title'] = raw_data_dic[\"title\"]\n",
    "    raw_content_param['raw_duration'] = raw_data_dic[\"duration\"]\n",
    "    organizer_emails = pd.DataFrame({'email': [raw_data_dic[\"organizer_email\"]]})\n",
    "    organizer_emails['comm_id'] = raw_data_dic['id']\n",
    "    host_emails = pd.DataFrame({'email': [raw_data_dic[\"host_email\"]]})\n",
    "    host_emails['comm_id'] = raw_data_dic['id']\n",
    "    speakers = pd.DataFrame(raw_data_dic[\"speakers\"])\n",
    "    speakers['comm_id'] = raw_data_dic['id']\n",
    "    participants = pd.DataFrame({'email': raw_data_dic[\"participants\"]}, columns=['email'])\n",
    "    participants['comm_id'] = raw_data_dic['id']\n",
    "    meeting_attendees = pd.DataFrame(raw_data_dic[\"meeting_attendees\"])\n",
    "    meeting_attendees['comm_id'] = raw_data_dic['id']\n",
    "    raw_content_param_df = pd.concat([raw_content_param_df, raw_content_param], ignore_index=True)\n",
    "    host_emails_df = pd.concat([host_emails_df, host_emails], ignore_index=True)\n",
    "    organizer_emails_df = pd.concat([organizer_emails_df, organizer_emails], ignore_index=True)\n",
    "    speakers_df = pd.concat([speakers_df, speakers], ignore_index=True)\n",
    "    participants_df = pd.concat([participants_df, participants], ignore_index=True)\n",
    "    meeting_attendees_df = pd.concat([meeting_attendees_df, meeting_attendees], ignore_index=True)\n"
   ]
  },
  {
   "cell_type": "code",
   "execution_count": 169,
   "id": "3683c4b8",
   "metadata": {},
   "outputs": [],
   "source": [
    "extended_users = pd.concat([meeting_attendees_df, organizer_emails_df, participants_df, speakers_df, host_emails_df], ignore_index=True)\n",
    "dim_user = extended_users.drop_duplicates().drop(columns=['comm_id'])\n",
    "dim_user.insert(0, 'user_id', range(1, len(dim_user) + 1))"
   ]
  },
  {
   "cell_type": "code",
   "execution_count": 170,
   "id": "15b6d34a",
   "metadata": {},
   "outputs": [],
   "source": [
    "fact_communication = pd.DataFrame()\n",
    "fact_communication['comm_id'] = raw_content_param_df['id']\n",
    "fact_communication['raw_id'] = raw_data['id']\n",
    "fact_communication['source_id'] = raw_data['source_id']\n",
    "\n",
    "fact_communication['comm_type'] = raw_data['comm_type']\n",
    "fact_communication = fact_communication.merge(dim_comm_type, on='comm_type', how='left')\n",
    "fact_communication.drop(columns=['comm_type'], inplace=True)\n",
    "\n",
    "fact_communication['subject_id'] = dim_subject['subject_id']\n",
    "fact_communication['calendar_id'] = dim_calendar['calendar_id']\n",
    "fact_communication['audio_id'] = dim_audio['audio_id']\n",
    "fact_communication['video_id'] = dim_video['video_id']\n",
    "fact_communication['transcript_id'] = dim_transcript['transcript_id']\n",
    "fact_communication['datetime_id'] = dim_dateString['datetime_id']\n",
    "fact_communication['ingested_at'] = raw_data['ingested_at']\n",
    "fact_communication['processed_at'] = raw_data['processed_at']\n",
    "fact_communication['is_processed'] = raw_data['is_processed']\n",
    "fact_communication['raw_title'] = raw_content_param_df['raw_title']\n",
    "fact_communication['raw_duration'] = raw_content_param_df['raw_duration']"
   ]
  },
  {
   "cell_type": "code",
   "execution_count": 171,
   "id": "ccce19fc",
   "metadata": {},
   "outputs": [],
   "source": [
    "def add_role_flag(base_df, role_df, role_name):\n",
    "    temp = base_df.merge(role_df, on=[\"email\", \"comm_id\"], how=\"left\", indicator=True)\n",
    "    base_df[role_name] = temp[\"_merge\"] == \"both\"\n",
    "    return base_df\n",
    "\n",
    "extended_users = add_role_flag(extended_users, meeting_attendees_df, \"attended\")\n",
    "extended_users = add_role_flag(extended_users, organizer_emails_df, \"is_organizer\")\n",
    "extended_users = add_role_flag(extended_users, participants_df, \"is_participant\")\n",
    "temp = extended_users.merge(speakers_df, on=[\"name\", \"comm_id\"], how=\"left\", indicator=True)\n",
    "extended_users['is_speaker'] = temp[\"_merge\"] == \"both\"\n",
    "extended_users.drop(columns=['location', 'displayName', 'phoneNumber'], inplace=True)\n",
    "bridge_comm_user = pd.merge(extended_users, dim_user, on = ['name', 'email'], how='left')\n",
    "bridge_comm_user.drop(columns=['name', 'email'], inplace=True)\n",
    "user_id_column = bridge_comm_user.pop('user_id')\n",
    "bridge_comm_user.insert(1, 'user_id', user_id_column)"
   ]
  },
  {
   "cell_type": "code",
   "execution_count": 172,
   "id": "d85dba6f",
   "metadata": {},
   "outputs": [],
   "source": [
    "sheets = {\n",
    "    'dim_comm_type': dim_comm_type,\n",
    "    'dim_subject': dim_subject,\n",
    "    'dim_user': dim_user,\n",
    "    'dim_calendar': dim_calendar,\n",
    "    'dim_audio': dim_audio,\n",
    "    'dim_video': dim_video,\n",
    "    'dim_transcript': dim_transcript,\n",
    "    'fact_communication': fact_communication,\n",
    "    'bridge_comm_user': bridge_comm_user}\n",
    "with pd.ExcelWriter('results.xlsx') as writer:\n",
    "    for sheet_name, df in sheets.items():\n",
    "        df.to_excel(writer, sheet_name=sheet_name, index=False)\n"
   ]
  }
 ],
 "metadata": {
  "kernelspec": {
   "display_name": "Python 3",
   "language": "python",
   "name": "python3"
  },
  "language_info": {
   "codemirror_mode": {
    "name": "ipython",
    "version": 3
   },
   "file_extension": ".py",
   "mimetype": "text/x-python",
   "name": "python",
   "nbconvert_exporter": "python",
   "pygments_lexer": "ipython3",
   "version": "3.11.6"
  }
 },
 "nbformat": 4,
 "nbformat_minor": 5
}
